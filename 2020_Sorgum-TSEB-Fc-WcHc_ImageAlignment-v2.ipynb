{
 "cells": [
  {
   "cell_type": "markdown",
   "id": "36765dd4",
   "metadata": {},
   "source": [
    "# Bu kod ile TSEB için gerekli olan inputlar hazırlanmaktadır."
   ]
  },
  {
   "cell_type": "markdown",
   "id": "ea406b8a",
   "metadata": {},
   "source": [
    "# Programın Kullanımı"
   ]
  },
  {
   "cell_type": "markdown",
   "id": "9a7c8b12",
   "metadata": {},
   "source": [
    "1- daha önceden oluşturulmuş grid seçilir (fc ve Wc-Hc hesabı için gereklidir).\n",
    "\n",
    "2- sırasıyla aynı çözünürlükteki hc(bitki boyu, DEM değil), yüksek çöz ndvi(fc sınıflandırması için), düş çöz ndvi (lai hesabı için, sorgumda)\n",
    "\n",
    "3- toprak bitki ayrıştırmasında her tarih için eşik değerleri histogram ile güncellenmelidir.\n",
    "\n",
    "4- geri kalanı kendi oluşturuyor, jupyter notebook un olduğu dizine kayıt yapıyor. ## şu kısmı güncelle"
   ]
  },
  {
   "cell_type": "code",
   "execution_count": 1,
   "id": "76e37140",
   "metadata": {},
   "outputs": [],
   "source": [
    "import geopandas as gpd\n",
    "import rasterio\n",
    "import rasterstats\n",
    "import pandas as pd\n",
    "import numpy as np\n",
    "from geocube.api.core import make_geocube\n",
    "import glob,os\n",
    "from tkinter import filedialog\n",
    "from tkinter import *\n",
    "from datetime import datetime\n",
    "from tqdm import tqdm"
   ]
  },
  {
   "cell_type": "markdown",
   "id": "41f5ccfb",
   "metadata": {},
   "source": [
    "# Görüntülerin seçiminde burasıda kullanılabilir"
   ]
  },
  {
   "cell_type": "code",
   "execution_count": 2,
   "id": "c6dc33af",
   "metadata": {
    "scrolled": true
   },
   "outputs": [
    {
     "name": "stdout",
     "output_type": "stream",
     "text": [
      "37\n",
      "37\n",
      "36\n"
     ]
    }
   ],
   "source": [
    "klasor = r\"J:\\2021_TUBITAK_sorgum\\2020sorgum\\Altum_2020_paket\"\n",
    "dem = r\"J:\\2021_TUBITAK_sorgum\\2020v2\\ham\\saved\\VI\\DEM\"\n",
    "path_hc= []\n",
    "path_ndvi_high= []\n",
    "path_ndvi_low= []\n",
    "\n",
    "\n",
    "for root, dirname, files in os.walk(klasor):\n",
    "    for x in files:\n",
    "        isim=(root+'\\\\'+x)\n",
    "        if isim[-13:]=='ndvi_02cm.tif':\n",
    "            path_ndvi_high.append(isim)\n",
    "\n",
    "for root, dirname, files in os.walk(klasor):\n",
    "    for x in files:\n",
    "        isim=(root+'\\\\'+x)\n",
    "        if isim[-13:]=='ndvi_10cm.tif':\n",
    "            path_ndvi_low.append(isim)\n",
    "            \n",
    "for root, dirname, files in os.walk(dem):\n",
    "    for x in files:\n",
    "        isim=(root+'\\\\'+x)\n",
    "        if isim[-8:]=='_DEM.tif':\n",
    "            path_hc.append(isim)\n",
    "\n",
    "print(len(path_ndvi_high))\n",
    "print(len((path_ndvi_low)))\n",
    "print(len(path_hc))\n",
    "\n"
   ]
  },
  {
   "cell_type": "code",
   "execution_count": null,
   "id": "31eed6d5",
   "metadata": {},
   "outputs": [],
   "source": []
  },
  {
   "cell_type": "code",
   "execution_count": 4,
   "id": "c9080aef",
   "metadata": {
    "scrolled": false
   },
   "outputs": [
    {
     "name": "stdout",
     "output_type": "stream",
     "text": [
      "Shp file dosyası Okundu\n"
     ]
    },
    {
     "name": "stderr",
     "output_type": "stream",
     "text": [
      "\r",
      "  0%|\u001b[38;2;0;255;0m                                                   \u001b[0m| 0/36 [00:00<?, ?it/s]\u001b[0m"
     ]
    },
    {
     "name": "stdout",
     "output_type": "stream",
     "text": [
      "20200526_LAI Hesaplandı\n",
      "toprak bitki ayrıştırması tamamlandı\n"
     ]
    },
    {
     "name": "stderr",
     "output_type": "stream",
     "text": [
      "C:\\Users\\CBS-3\\anaconda3\\envs\\micasense\\lib\\site-packages\\rasterstats\\io.py:313: UserWarning: Setting nodata to -999; specify nodata explicitly\n",
      "  warnings.warn(\"Setting nodata to -999; specify nodata explicitly\")\n"
     ]
    },
    {
     "name": "stdout",
     "output_type": "stream",
     "text": [
      "Zonal istatistik tamamlandı\n",
      "Vej Pixel sayıları Toplandı\n"
     ]
    },
    {
     "name": "stderr",
     "output_type": "stream",
     "text": [
      "C:\\Users\\CBS-3\\anaconda3\\envs\\micasense\\lib\\site-packages\\ipykernel_launcher.py:119: RuntimeWarning: divide by zero encountered in true_divide\n",
      "C:\\Users\\CBS-3\\anaconda3\\envs\\micasense\\lib\\site-packages\\ipykernel_launcher.py:119: RuntimeWarning: invalid value encountered in true_divide\n",
      "\r",
      "  3%|\u001b[38;2;0;255;0m█                                     \u001b[0m| 1/36 [38:30<22:27:46, 2310.48s/it]\u001b[0m"
     ]
    },
    {
     "name": "stdout",
     "output_type": "stream",
     "text": [
      "Fc Oluşturuldu\n",
      "wc Oluşturuldu\n",
      "wc_hc Oluşturuldu\n",
      "wc_hc Oluşturuldu\n",
      "20200601 Klasörü Oluşturuldu!\n",
      "20200601_LAI Hesaplandı\n",
      "toprak bitki ayrıştırması tamamlandı\n"
     ]
    },
    {
     "name": "stderr",
     "output_type": "stream",
     "text": [
      "C:\\Users\\CBS-3\\anaconda3\\envs\\micasense\\lib\\site-packages\\rasterstats\\io.py:313: UserWarning: Setting nodata to -999; specify nodata explicitly\n",
      "  warnings.warn(\"Setting nodata to -999; specify nodata explicitly\")\n"
     ]
    },
    {
     "name": "stdout",
     "output_type": "stream",
     "text": [
      "Zonal istatistik tamamlandı\n",
      "Vej Pixel sayıları Toplandı\n"
     ]
    },
    {
     "name": "stderr",
     "output_type": "stream",
     "text": [
      "C:\\Users\\CBS-3\\anaconda3\\envs\\micasense\\lib\\site-packages\\ipykernel_launcher.py:119: RuntimeWarning: divide by zero encountered in true_divide\n",
      "C:\\Users\\CBS-3\\anaconda3\\envs\\micasense\\lib\\site-packages\\ipykernel_launcher.py:119: RuntimeWarning: invalid value encountered in true_divide\n",
      "\r",
      "  6%|\u001b[38;2;0;255;0m██                                  \u001b[0m| 2/36 [1:17:06<21:50:57, 2313.45s/it]\u001b[0m"
     ]
    },
    {
     "name": "stdout",
     "output_type": "stream",
     "text": [
      "Fc Oluşturuldu\n",
      "wc Oluşturuldu\n",
      "wc_hc Oluşturuldu\n",
      "wc_hc Oluşturuldu\n",
      "20200605 Klasörü Oluşturuldu!\n",
      "20200605_LAI Hesaplandı\n",
      "toprak bitki ayrıştırması tamamlandı\n"
     ]
    },
    {
     "name": "stderr",
     "output_type": "stream",
     "text": [
      "C:\\Users\\CBS-3\\anaconda3\\envs\\micasense\\lib\\site-packages\\rasterstats\\io.py:313: UserWarning: Setting nodata to -999; specify nodata explicitly\n",
      "  warnings.warn(\"Setting nodata to -999; specify nodata explicitly\")\n"
     ]
    },
    {
     "name": "stdout",
     "output_type": "stream",
     "text": [
      "Zonal istatistik tamamlandı\n",
      "Vej Pixel sayıları Toplandı\n"
     ]
    },
    {
     "name": "stderr",
     "output_type": "stream",
     "text": [
      "C:\\Users\\CBS-3\\anaconda3\\envs\\micasense\\lib\\site-packages\\ipykernel_launcher.py:119: RuntimeWarning: divide by zero encountered in true_divide\n",
      "C:\\Users\\CBS-3\\anaconda3\\envs\\micasense\\lib\\site-packages\\ipykernel_launcher.py:119: RuntimeWarning: invalid value encountered in true_divide\n",
      "\r",
      "  8%|\u001b[38;2;0;255;0m███                                 \u001b[0m| 3/36 [1:55:48<21:14:38, 2317.53s/it]\u001b[0m"
     ]
    },
    {
     "name": "stdout",
     "output_type": "stream",
     "text": [
      "Fc Oluşturuldu\n",
      "wc Oluşturuldu\n",
      "wc_hc Oluşturuldu\n",
      "wc_hc Oluşturuldu\n",
      "20200608 Klasörü Oluşturuldu!\n",
      "20200608_LAI Hesaplandı\n",
      "toprak bitki ayrıştırması tamamlandı\n"
     ]
    },
    {
     "name": "stderr",
     "output_type": "stream",
     "text": [
      "C:\\Users\\CBS-3\\anaconda3\\envs\\micasense\\lib\\site-packages\\rasterstats\\io.py:313: UserWarning: Setting nodata to -999; specify nodata explicitly\n",
      "  warnings.warn(\"Setting nodata to -999; specify nodata explicitly\")\n"
     ]
    },
    {
     "name": "stdout",
     "output_type": "stream",
     "text": [
      "Zonal istatistik tamamlandı\n",
      "Vej Pixel sayıları Toplandı\n"
     ]
    },
    {
     "name": "stderr",
     "output_type": "stream",
     "text": [
      "C:\\Users\\CBS-3\\anaconda3\\envs\\micasense\\lib\\site-packages\\ipykernel_launcher.py:119: RuntimeWarning: divide by zero encountered in true_divide\n",
      "C:\\Users\\CBS-3\\anaconda3\\envs\\micasense\\lib\\site-packages\\ipykernel_launcher.py:119: RuntimeWarning: invalid value encountered in true_divide\n",
      "\r",
      " 11%|\u001b[38;2;0;255;0m████                                \u001b[0m| 4/36 [2:34:20<20:34:47, 2315.23s/it]\u001b[0m"
     ]
    },
    {
     "name": "stdout",
     "output_type": "stream",
     "text": [
      "Fc Oluşturuldu\n",
      "wc Oluşturuldu\n",
      "wc_hc Oluşturuldu\n",
      "wc_hc Oluşturuldu\n",
      "20200611 Klasörü Oluşturuldu!\n",
      "20200611_LAI Hesaplandı\n",
      "toprak bitki ayrıştırması tamamlandı\n"
     ]
    },
    {
     "name": "stderr",
     "output_type": "stream",
     "text": [
      "C:\\Users\\CBS-3\\anaconda3\\envs\\micasense\\lib\\site-packages\\rasterstats\\io.py:313: UserWarning: Setting nodata to -999; specify nodata explicitly\n",
      "  warnings.warn(\"Setting nodata to -999; specify nodata explicitly\")\n"
     ]
    },
    {
     "name": "stdout",
     "output_type": "stream",
     "text": [
      "Zonal istatistik tamamlandı\n",
      "Vej Pixel sayıları Toplandı\n"
     ]
    },
    {
     "name": "stderr",
     "output_type": "stream",
     "text": [
      "C:\\Users\\CBS-3\\anaconda3\\envs\\micasense\\lib\\site-packages\\ipykernel_launcher.py:119: RuntimeWarning: divide by zero encountered in true_divide\n",
      "C:\\Users\\CBS-3\\anaconda3\\envs\\micasense\\lib\\site-packages\\ipykernel_launcher.py:119: RuntimeWarning: invalid value encountered in true_divide\n",
      "\r",
      " 14%|\u001b[38;2;0;255;0m█████                               \u001b[0m| 5/36 [3:12:56<19:56:26, 2315.70s/it]\u001b[0m"
     ]
    },
    {
     "name": "stdout",
     "output_type": "stream",
     "text": [
      "Fc Oluşturuldu\n",
      "wc Oluşturuldu\n",
      "wc_hc Oluşturuldu\n",
      "wc_hc Oluşturuldu\n",
      "20200615 Klasörü Oluşturuldu!\n",
      "20200615_LAI Hesaplandı\n",
      "toprak bitki ayrıştırması tamamlandı\n"
     ]
    },
    {
     "name": "stderr",
     "output_type": "stream",
     "text": [
      "C:\\Users\\CBS-3\\anaconda3\\envs\\micasense\\lib\\site-packages\\rasterstats\\io.py:313: UserWarning: Setting nodata to -999; specify nodata explicitly\n",
      "  warnings.warn(\"Setting nodata to -999; specify nodata explicitly\")\n"
     ]
    },
    {
     "name": "stdout",
     "output_type": "stream",
     "text": [
      "Zonal istatistik tamamlandı\n",
      "Vej Pixel sayıları Toplandı\n"
     ]
    },
    {
     "name": "stderr",
     "output_type": "stream",
     "text": [
      "C:\\Users\\CBS-3\\anaconda3\\envs\\micasense\\lib\\site-packages\\ipykernel_launcher.py:119: RuntimeWarning: divide by zero encountered in true_divide\n",
      "C:\\Users\\CBS-3\\anaconda3\\envs\\micasense\\lib\\site-packages\\ipykernel_launcher.py:119: RuntimeWarning: invalid value encountered in true_divide\n",
      "\r",
      " 17%|\u001b[38;2;0;255;0m██████                              \u001b[0m| 6/36 [3:51:42<19:19:31, 2319.07s/it]\u001b[0m"
     ]
    },
    {
     "name": "stdout",
     "output_type": "stream",
     "text": [
      "Fc Oluşturuldu\n",
      "wc Oluşturuldu\n",
      "wc_hc Oluşturuldu\n",
      "wc_hc Oluşturuldu\n",
      "20200618 Klasörü Oluşturuldu!\n",
      "20200618_LAI Hesaplandı\n",
      "toprak bitki ayrıştırması tamamlandı\n"
     ]
    },
    {
     "name": "stderr",
     "output_type": "stream",
     "text": [
      "C:\\Users\\CBS-3\\anaconda3\\envs\\micasense\\lib\\site-packages\\rasterstats\\io.py:313: UserWarning: Setting nodata to -999; specify nodata explicitly\n",
      "  warnings.warn(\"Setting nodata to -999; specify nodata explicitly\")\n"
     ]
    },
    {
     "name": "stdout",
     "output_type": "stream",
     "text": [
      "Zonal istatistik tamamlandı\n",
      "Vej Pixel sayıları Toplandı\n"
     ]
    },
    {
     "name": "stderr",
     "output_type": "stream",
     "text": [
      "C:\\Users\\CBS-3\\anaconda3\\envs\\micasense\\lib\\site-packages\\ipykernel_launcher.py:119: RuntimeWarning: divide by zero encountered in true_divide\n",
      "C:\\Users\\CBS-3\\anaconda3\\envs\\micasense\\lib\\site-packages\\ipykernel_launcher.py:119: RuntimeWarning: invalid value encountered in true_divide\n",
      "\r",
      " 19%|\u001b[38;2;0;255;0m███████                             \u001b[0m| 7/36 [4:30:25<18:41:29, 2320.31s/it]\u001b[0m"
     ]
    },
    {
     "name": "stdout",
     "output_type": "stream",
     "text": [
      "Fc Oluşturuldu\n",
      "wc Oluşturuldu\n",
      "wc_hc Oluşturuldu\n",
      "wc_hc Oluşturuldu\n",
      "20200623 Klasörü Oluşturuldu!\n",
      "20200623_LAI Hesaplandı\n",
      "toprak bitki ayrıştırması tamamlandı\n"
     ]
    },
    {
     "name": "stderr",
     "output_type": "stream",
     "text": [
      "C:\\Users\\CBS-3\\anaconda3\\envs\\micasense\\lib\\site-packages\\rasterstats\\io.py:313: UserWarning: Setting nodata to -999; specify nodata explicitly\n",
      "  warnings.warn(\"Setting nodata to -999; specify nodata explicitly\")\n"
     ]
    },
    {
     "name": "stdout",
     "output_type": "stream",
     "text": [
      "Zonal istatistik tamamlandı\n",
      "Vej Pixel sayıları Toplandı\n"
     ]
    },
    {
     "name": "stderr",
     "output_type": "stream",
     "text": [
      "C:\\Users\\CBS-3\\anaconda3\\envs\\micasense\\lib\\site-packages\\ipykernel_launcher.py:119: RuntimeWarning: divide by zero encountered in true_divide\n",
      "C:\\Users\\CBS-3\\anaconda3\\envs\\micasense\\lib\\site-packages\\ipykernel_launcher.py:119: RuntimeWarning: invalid value encountered in true_divide\n",
      "\r",
      " 22%|\u001b[38;2;0;255;0m████████                            \u001b[0m| 8/36 [5:08:57<18:01:34, 2317.66s/it]\u001b[0m"
     ]
    },
    {
     "name": "stdout",
     "output_type": "stream",
     "text": [
      "Fc Oluşturuldu\n",
      "wc Oluşturuldu\n",
      "wc_hc Oluşturuldu\n",
      "wc_hc Oluşturuldu\n",
      "20200629 Klasörü Oluşturuldu!\n",
      "20200629_LAI Hesaplandı\n",
      "toprak bitki ayrıştırması tamamlandı\n"
     ]
    },
    {
     "name": "stderr",
     "output_type": "stream",
     "text": [
      "C:\\Users\\CBS-3\\anaconda3\\envs\\micasense\\lib\\site-packages\\rasterstats\\io.py:313: UserWarning: Setting nodata to -999; specify nodata explicitly\n",
      "  warnings.warn(\"Setting nodata to -999; specify nodata explicitly\")\n"
     ]
    },
    {
     "name": "stdout",
     "output_type": "stream",
     "text": [
      "Zonal istatistik tamamlandı\n",
      "Vej Pixel sayıları Toplandı\n"
     ]
    },
    {
     "name": "stderr",
     "output_type": "stream",
     "text": [
      "C:\\Users\\CBS-3\\anaconda3\\envs\\micasense\\lib\\site-packages\\ipykernel_launcher.py:119: RuntimeWarning: divide by zero encountered in true_divide\n",
      "C:\\Users\\CBS-3\\anaconda3\\envs\\micasense\\lib\\site-packages\\ipykernel_launcher.py:119: RuntimeWarning: invalid value encountered in true_divide\n",
      "\r",
      " 25%|\u001b[38;2;0;255;0m█████████                           \u001b[0m| 9/36 [5:47:38<17:23:30, 2318.89s/it]\u001b[0m"
     ]
    },
    {
     "name": "stdout",
     "output_type": "stream",
     "text": [
      "Fc Oluşturuldu\n",
      "wc Oluşturuldu\n",
      "wc_hc Oluşturuldu\n",
      "wc_hc Oluşturuldu\n",
      "20200701 Klasörü Oluşturuldu!\n",
      "20200701_LAI Hesaplandı\n",
      "toprak bitki ayrıştırması tamamlandı\n"
     ]
    },
    {
     "name": "stderr",
     "output_type": "stream",
     "text": [
      "C:\\Users\\CBS-3\\anaconda3\\envs\\micasense\\lib\\site-packages\\rasterstats\\io.py:313: UserWarning: Setting nodata to -999; specify nodata explicitly\n",
      "  warnings.warn(\"Setting nodata to -999; specify nodata explicitly\")\n"
     ]
    },
    {
     "name": "stdout",
     "output_type": "stream",
     "text": [
      "Zonal istatistik tamamlandı\n",
      "Vej Pixel sayıları Toplandı\n"
     ]
    },
    {
     "name": "stderr",
     "output_type": "stream",
     "text": [
      "C:\\Users\\CBS-3\\anaconda3\\envs\\micasense\\lib\\site-packages\\ipykernel_launcher.py:119: RuntimeWarning: divide by zero encountered in true_divide\n",
      "C:\\Users\\CBS-3\\anaconda3\\envs\\micasense\\lib\\site-packages\\ipykernel_launcher.py:119: RuntimeWarning: invalid value encountered in true_divide\n",
      "\r",
      " 28%|\u001b[38;2;0;255;0m█████████▋                         \u001b[0m| 10/36 [6:26:14<16:44:29, 2318.06s/it]\u001b[0m"
     ]
    },
    {
     "name": "stdout",
     "output_type": "stream",
     "text": [
      "Fc Oluşturuldu\n",
      "wc Oluşturuldu\n",
      "wc_hc Oluşturuldu\n",
      "wc_hc Oluşturuldu\n",
      "20200703 Klasörü Oluşturuldu!\n",
      "20200703_LAI Hesaplandı\n",
      "toprak bitki ayrıştırması tamamlandı\n"
     ]
    },
    {
     "name": "stderr",
     "output_type": "stream",
     "text": [
      "C:\\Users\\CBS-3\\anaconda3\\envs\\micasense\\lib\\site-packages\\rasterstats\\io.py:313: UserWarning: Setting nodata to -999; specify nodata explicitly\n",
      "  warnings.warn(\"Setting nodata to -999; specify nodata explicitly\")\n"
     ]
    },
    {
     "name": "stdout",
     "output_type": "stream",
     "text": [
      "Zonal istatistik tamamlandı\n",
      "Vej Pixel sayıları Toplandı\n"
     ]
    },
    {
     "name": "stderr",
     "output_type": "stream",
     "text": [
      "C:\\Users\\CBS-3\\anaconda3\\envs\\micasense\\lib\\site-packages\\ipykernel_launcher.py:119: RuntimeWarning: divide by zero encountered in true_divide\n",
      "C:\\Users\\CBS-3\\anaconda3\\envs\\micasense\\lib\\site-packages\\ipykernel_launcher.py:119: RuntimeWarning: invalid value encountered in true_divide\n",
      "\r",
      " 31%|\u001b[38;2;0;255;0m██████████▋                        \u001b[0m| 11/36 [7:05:23<16:09:47, 2327.51s/it]\u001b[0m"
     ]
    },
    {
     "name": "stdout",
     "output_type": "stream",
     "text": [
      "Fc Oluşturuldu\n",
      "wc Oluşturuldu\n",
      "wc_hc Oluşturuldu\n",
      "wc_hc Oluşturuldu\n",
      "20200706 Klasörü Oluşturuldu!\n",
      "20200706_LAI Hesaplandı\n",
      "toprak bitki ayrıştırması tamamlandı\n"
     ]
    },
    {
     "name": "stderr",
     "output_type": "stream",
     "text": [
      "C:\\Users\\CBS-3\\anaconda3\\envs\\micasense\\lib\\site-packages\\rasterstats\\io.py:313: UserWarning: Setting nodata to -999; specify nodata explicitly\n",
      "  warnings.warn(\"Setting nodata to -999; specify nodata explicitly\")\n"
     ]
    },
    {
     "name": "stdout",
     "output_type": "stream",
     "text": [
      "Zonal istatistik tamamlandı\n",
      "Vej Pixel sayıları Toplandı\n"
     ]
    },
    {
     "name": "stderr",
     "output_type": "stream",
     "text": [
      "C:\\Users\\CBS-3\\anaconda3\\envs\\micasense\\lib\\site-packages\\ipykernel_launcher.py:119: RuntimeWarning: divide by zero encountered in true_divide\n",
      "C:\\Users\\CBS-3\\anaconda3\\envs\\micasense\\lib\\site-packages\\ipykernel_launcher.py:119: RuntimeWarning: invalid value encountered in true_divide\n",
      "\r",
      " 33%|\u001b[38;2;0;255;0m███████████▋                       \u001b[0m| 12/36 [7:44:00<15:29:44, 2324.34s/it]\u001b[0m"
     ]
    },
    {
     "name": "stdout",
     "output_type": "stream",
     "text": [
      "Fc Oluşturuldu\n",
      "wc Oluşturuldu\n",
      "wc_hc Oluşturuldu\n",
      "wc_hc Oluşturuldu\n",
      "20200710 Klasörü Oluşturuldu!\n",
      "20200710_LAI Hesaplandı\n",
      "toprak bitki ayrıştırması tamamlandı\n"
     ]
    },
    {
     "name": "stderr",
     "output_type": "stream",
     "text": [
      "C:\\Users\\CBS-3\\anaconda3\\envs\\micasense\\lib\\site-packages\\rasterstats\\io.py:313: UserWarning: Setting nodata to -999; specify nodata explicitly\n",
      "  warnings.warn(\"Setting nodata to -999; specify nodata explicitly\")\n"
     ]
    },
    {
     "name": "stdout",
     "output_type": "stream",
     "text": [
      "Zonal istatistik tamamlandı\n",
      "Vej Pixel sayıları Toplandı\n"
     ]
    },
    {
     "name": "stderr",
     "output_type": "stream",
     "text": [
      "C:\\Users\\CBS-3\\anaconda3\\envs\\micasense\\lib\\site-packages\\ipykernel_launcher.py:119: RuntimeWarning: divide by zero encountered in true_divide\n",
      "C:\\Users\\CBS-3\\anaconda3\\envs\\micasense\\lib\\site-packages\\ipykernel_launcher.py:119: RuntimeWarning: invalid value encountered in true_divide\n",
      "\r",
      " 36%|\u001b[38;2;0;255;0m████████████▋                      \u001b[0m| 13/36 [8:22:47<14:51:13, 2324.94s/it]\u001b[0m"
     ]
    },
    {
     "name": "stdout",
     "output_type": "stream",
     "text": [
      "Fc Oluşturuldu\n",
      "wc Oluşturuldu\n",
      "wc_hc Oluşturuldu\n",
      "wc_hc Oluşturuldu\n",
      "20200713 Klasörü Oluşturuldu!\n",
      "20200713_LAI Hesaplandı\n",
      "toprak bitki ayrıştırması tamamlandı\n"
     ]
    },
    {
     "name": "stderr",
     "output_type": "stream",
     "text": [
      "C:\\Users\\CBS-3\\anaconda3\\envs\\micasense\\lib\\site-packages\\rasterstats\\io.py:313: UserWarning: Setting nodata to -999; specify nodata explicitly\n",
      "  warnings.warn(\"Setting nodata to -999; specify nodata explicitly\")\n"
     ]
    },
    {
     "name": "stdout",
     "output_type": "stream",
     "text": [
      "Zonal istatistik tamamlandı\n",
      "Vej Pixel sayıları Toplandı\n"
     ]
    },
    {
     "name": "stderr",
     "output_type": "stream",
     "text": [
      "C:\\Users\\CBS-3\\anaconda3\\envs\\micasense\\lib\\site-packages\\ipykernel_launcher.py:119: RuntimeWarning: divide by zero encountered in true_divide\n",
      "C:\\Users\\CBS-3\\anaconda3\\envs\\micasense\\lib\\site-packages\\ipykernel_launcher.py:119: RuntimeWarning: invalid value encountered in true_divide\n",
      "\r",
      " 39%|\u001b[38;2;0;255;0m█████████████▌                     \u001b[0m| 14/36 [9:01:24<14:11:36, 2322.57s/it]\u001b[0m"
     ]
    },
    {
     "name": "stdout",
     "output_type": "stream",
     "text": [
      "Fc Oluşturuldu\n",
      "wc Oluşturuldu\n",
      "wc_hc Oluşturuldu\n",
      "wc_hc Oluşturuldu\n",
      "20200717 Klasörü Oluşturuldu!\n",
      "20200717_LAI Hesaplandı\n",
      "toprak bitki ayrıştırması tamamlandı\n"
     ]
    },
    {
     "name": "stderr",
     "output_type": "stream",
     "text": [
      "C:\\Users\\CBS-3\\anaconda3\\envs\\micasense\\lib\\site-packages\\rasterstats\\io.py:313: UserWarning: Setting nodata to -999; specify nodata explicitly\n",
      "  warnings.warn(\"Setting nodata to -999; specify nodata explicitly\")\n"
     ]
    },
    {
     "name": "stdout",
     "output_type": "stream",
     "text": [
      "Zonal istatistik tamamlandı\n",
      "Vej Pixel sayıları Toplandı\n"
     ]
    },
    {
     "name": "stderr",
     "output_type": "stream",
     "text": [
      "C:\\Users\\CBS-3\\anaconda3\\envs\\micasense\\lib\\site-packages\\ipykernel_launcher.py:119: RuntimeWarning: divide by zero encountered in true_divide\n",
      "C:\\Users\\CBS-3\\anaconda3\\envs\\micasense\\lib\\site-packages\\ipykernel_launcher.py:119: RuntimeWarning: invalid value encountered in true_divide\n",
      "\r",
      " 42%|\u001b[38;2;0;255;0m██████████████▌                    \u001b[0m| 15/36 [9:40:10<13:33:14, 2323.55s/it]\u001b[0m"
     ]
    },
    {
     "name": "stdout",
     "output_type": "stream",
     "text": [
      "Fc Oluşturuldu\n",
      "wc Oluşturuldu\n",
      "wc_hc Oluşturuldu\n",
      "wc_hc Oluşturuldu\n",
      "20200720 Klasörü Oluşturuldu!\n",
      "20200720_LAI Hesaplandı\n",
      "toprak bitki ayrıştırması tamamlandı\n"
     ]
    },
    {
     "name": "stderr",
     "output_type": "stream",
     "text": [
      "C:\\Users\\CBS-3\\anaconda3\\envs\\micasense\\lib\\site-packages\\rasterstats\\io.py:313: UserWarning: Setting nodata to -999; specify nodata explicitly\n",
      "  warnings.warn(\"Setting nodata to -999; specify nodata explicitly\")\n"
     ]
    },
    {
     "name": "stdout",
     "output_type": "stream",
     "text": [
      "Zonal istatistik tamamlandı\n",
      "Vej Pixel sayıları Toplandı\n"
     ]
    },
    {
     "name": "stderr",
     "output_type": "stream",
     "text": [
      "C:\\Users\\CBS-3\\anaconda3\\envs\\micasense\\lib\\site-packages\\ipykernel_launcher.py:119: RuntimeWarning: divide by zero encountered in true_divide\n",
      "C:\\Users\\CBS-3\\anaconda3\\envs\\micasense\\lib\\site-packages\\ipykernel_launcher.py:119: RuntimeWarning: invalid value encountered in true_divide\n",
      "\r",
      " 44%|\u001b[38;2;0;255;0m███████████████                   \u001b[0m| 16/36 [10:18:45<12:53:40, 2321.05s/it]\u001b[0m"
     ]
    },
    {
     "name": "stdout",
     "output_type": "stream",
     "text": [
      "Fc Oluşturuldu\n",
      "wc Oluşturuldu\n",
      "wc_hc Oluşturuldu\n",
      "wc_hc Oluşturuldu\n",
      "20200721 Klasörü Oluşturuldu!\n",
      "20200721_LAI Hesaplandı\n",
      "toprak bitki ayrıştırması tamamlandı\n"
     ]
    },
    {
     "name": "stderr",
     "output_type": "stream",
     "text": [
      "C:\\Users\\CBS-3\\anaconda3\\envs\\micasense\\lib\\site-packages\\rasterstats\\io.py:313: UserWarning: Setting nodata to -999; specify nodata explicitly\n",
      "  warnings.warn(\"Setting nodata to -999; specify nodata explicitly\")\n"
     ]
    },
    {
     "name": "stdout",
     "output_type": "stream",
     "text": [
      "Zonal istatistik tamamlandı\n",
      "Vej Pixel sayıları Toplandı\n"
     ]
    },
    {
     "name": "stderr",
     "output_type": "stream",
     "text": [
      "C:\\Users\\CBS-3\\anaconda3\\envs\\micasense\\lib\\site-packages\\ipykernel_launcher.py:119: RuntimeWarning: divide by zero encountered in true_divide\n",
      "C:\\Users\\CBS-3\\anaconda3\\envs\\micasense\\lib\\site-packages\\ipykernel_launcher.py:119: RuntimeWarning: invalid value encountered in true_divide\n",
      "\r",
      " 47%|\u001b[38;2;0;255;0m████████████████                  \u001b[0m| 17/36 [10:57:25<12:14:56, 2320.88s/it]\u001b[0m"
     ]
    },
    {
     "name": "stdout",
     "output_type": "stream",
     "text": [
      "Fc Oluşturuldu\n",
      "wc Oluşturuldu\n",
      "wc_hc Oluşturuldu\n",
      "wc_hc Oluşturuldu\n",
      "20200723 Klasörü Oluşturuldu!\n",
      "20200723_LAI Hesaplandı\n",
      "toprak bitki ayrıştırması tamamlandı\n"
     ]
    },
    {
     "name": "stderr",
     "output_type": "stream",
     "text": [
      "C:\\Users\\CBS-3\\anaconda3\\envs\\micasense\\lib\\site-packages\\rasterstats\\io.py:313: UserWarning: Setting nodata to -999; specify nodata explicitly\n",
      "  warnings.warn(\"Setting nodata to -999; specify nodata explicitly\")\n"
     ]
    },
    {
     "name": "stdout",
     "output_type": "stream",
     "text": [
      "Zonal istatistik tamamlandı\n",
      "Vej Pixel sayıları Toplandı\n",
      "Fc Oluşturuldu\n",
      "wc Oluşturuldu\n",
      "wc_hc Oluşturuldu\n"
     ]
    },
    {
     "name": "stderr",
     "output_type": "stream",
     "text": [
      "C:\\Users\\CBS-3\\anaconda3\\envs\\micasense\\lib\\site-packages\\ipykernel_launcher.py:119: RuntimeWarning: divide by zero encountered in true_divide\n",
      "C:\\Users\\CBS-3\\anaconda3\\envs\\micasense\\lib\\site-packages\\ipykernel_launcher.py:119: RuntimeWarning: invalid value encountered in true_divide\n",
      " 50%|\u001b[38;2;0;255;0m█████████████████                 \u001b[0m| 18/36 [11:36:06<11:36:12, 2320.71s/it]\u001b[0m"
     ]
    },
    {
     "name": "stdout",
     "output_type": "stream",
     "text": [
      "wc_hc Oluşturuldu\n",
      "20200727 Klasörü Oluşturuldu!\n",
      "20200727_LAI Hesaplandı\n",
      "toprak bitki ayrıştırması tamamlandı\n"
     ]
    },
    {
     "name": "stderr",
     "output_type": "stream",
     "text": [
      "C:\\Users\\CBS-3\\anaconda3\\envs\\micasense\\lib\\site-packages\\rasterstats\\io.py:313: UserWarning: Setting nodata to -999; specify nodata explicitly\n",
      "  warnings.warn(\"Setting nodata to -999; specify nodata explicitly\")\n"
     ]
    },
    {
     "name": "stdout",
     "output_type": "stream",
     "text": [
      "Zonal istatistik tamamlandı\n",
      "Vej Pixel sayıları Toplandı\n"
     ]
    },
    {
     "name": "stderr",
     "output_type": "stream",
     "text": [
      "C:\\Users\\CBS-3\\anaconda3\\envs\\micasense\\lib\\site-packages\\ipykernel_launcher.py:119: RuntimeWarning: divide by zero encountered in true_divide\n",
      "C:\\Users\\CBS-3\\anaconda3\\envs\\micasense\\lib\\site-packages\\ipykernel_launcher.py:119: RuntimeWarning: invalid value encountered in true_divide\n",
      "\r",
      " 53%|\u001b[38;2;0;255;0m█████████████████▉                \u001b[0m| 19/36 [12:14:48<10:57:38, 2321.07s/it]\u001b[0m"
     ]
    },
    {
     "name": "stdout",
     "output_type": "stream",
     "text": [
      "Fc Oluşturuldu\n",
      "wc Oluşturuldu\n",
      "wc_hc Oluşturuldu\n",
      "wc_hc Oluşturuldu\n",
      "20200728 Klasörü Oluşturuldu!\n",
      "20200728_LAI Hesaplandı\n",
      "toprak bitki ayrıştırması tamamlandı\n"
     ]
    },
    {
     "name": "stderr",
     "output_type": "stream",
     "text": [
      "C:\\Users\\CBS-3\\anaconda3\\envs\\micasense\\lib\\site-packages\\rasterstats\\io.py:313: UserWarning: Setting nodata to -999; specify nodata explicitly\n",
      "  warnings.warn(\"Setting nodata to -999; specify nodata explicitly\")\n"
     ]
    },
    {
     "name": "stdout",
     "output_type": "stream",
     "text": [
      "Zonal istatistik tamamlandı\n",
      "Vej Pixel sayıları Toplandı\n"
     ]
    },
    {
     "name": "stderr",
     "output_type": "stream",
     "text": [
      "C:\\Users\\CBS-3\\anaconda3\\envs\\micasense\\lib\\site-packages\\ipykernel_launcher.py:119: RuntimeWarning: divide by zero encountered in true_divide\n",
      "C:\\Users\\CBS-3\\anaconda3\\envs\\micasense\\lib\\site-packages\\ipykernel_launcher.py:119: RuntimeWarning: invalid value encountered in true_divide\n",
      "\r",
      " 56%|\u001b[38;2;0;255;0m██████████████████▉               \u001b[0m| 20/36 [12:54:22<10:23:13, 2337.09s/it]\u001b[0m"
     ]
    },
    {
     "name": "stdout",
     "output_type": "stream",
     "text": [
      "Fc Oluşturuldu\n",
      "wc Oluşturuldu\n",
      "wc_hc Oluşturuldu\n",
      "wc_hc Oluşturuldu\n",
      "20200730 Klasörü Oluşturuldu!\n",
      "20200730_LAI Hesaplandı\n",
      "toprak bitki ayrıştırması tamamlandı\n"
     ]
    },
    {
     "name": "stderr",
     "output_type": "stream",
     "text": [
      "C:\\Users\\CBS-3\\anaconda3\\envs\\micasense\\lib\\site-packages\\rasterstats\\io.py:313: UserWarning: Setting nodata to -999; specify nodata explicitly\n",
      "  warnings.warn(\"Setting nodata to -999; specify nodata explicitly\")\n"
     ]
    },
    {
     "name": "stdout",
     "output_type": "stream",
     "text": [
      "Zonal istatistik tamamlandı\n",
      "Vej Pixel sayıları Toplandı\n"
     ]
    },
    {
     "name": "stderr",
     "output_type": "stream",
     "text": [
      "C:\\Users\\CBS-3\\anaconda3\\envs\\micasense\\lib\\site-packages\\ipykernel_launcher.py:119: RuntimeWarning: divide by zero encountered in true_divide\n",
      "C:\\Users\\CBS-3\\anaconda3\\envs\\micasense\\lib\\site-packages\\ipykernel_launcher.py:119: RuntimeWarning: invalid value encountered in true_divide\n",
      "\r",
      " 58%|\u001b[38;2;0;255;0m████████████████████▍              \u001b[0m| 21/36 [13:33:16<9:44:01, 2336.12s/it]\u001b[0m"
     ]
    },
    {
     "name": "stdout",
     "output_type": "stream",
     "text": [
      "Fc Oluşturuldu\n",
      "wc Oluşturuldu\n",
      "wc_hc Oluşturuldu\n",
      "wc_hc Oluşturuldu\n",
      "20200803 Klasörü Oluşturuldu!\n",
      "20200803_LAI Hesaplandı\n",
      "toprak bitki ayrıştırması tamamlandı\n"
     ]
    },
    {
     "name": "stderr",
     "output_type": "stream",
     "text": [
      "C:\\Users\\CBS-3\\anaconda3\\envs\\micasense\\lib\\site-packages\\rasterstats\\io.py:313: UserWarning: Setting nodata to -999; specify nodata explicitly\n",
      "  warnings.warn(\"Setting nodata to -999; specify nodata explicitly\")\n"
     ]
    },
    {
     "name": "stdout",
     "output_type": "stream",
     "text": [
      "Zonal istatistik tamamlandı\n",
      "Vej Pixel sayıları Toplandı\n"
     ]
    },
    {
     "name": "stderr",
     "output_type": "stream",
     "text": [
      "C:\\Users\\CBS-3\\anaconda3\\envs\\micasense\\lib\\site-packages\\ipykernel_launcher.py:119: RuntimeWarning: divide by zero encountered in true_divide\n",
      "C:\\Users\\CBS-3\\anaconda3\\envs\\micasense\\lib\\site-packages\\ipykernel_launcher.py:119: RuntimeWarning: invalid value encountered in true_divide\n",
      "\r",
      " 61%|\u001b[38;2;0;255;0m█████████████████████▍             \u001b[0m| 22/36 [14:11:55<9:03:55, 2331.14s/it]\u001b[0m"
     ]
    },
    {
     "name": "stdout",
     "output_type": "stream",
     "text": [
      "Fc Oluşturuldu\n",
      "wc Oluşturuldu\n",
      "wc_hc Oluşturuldu\n",
      "wc_hc Oluşturuldu\n",
      "20200805 Klasörü Oluşturuldu!\n",
      "20200805_LAI Hesaplandı\n",
      "toprak bitki ayrıştırması tamamlandı\n"
     ]
    },
    {
     "name": "stderr",
     "output_type": "stream",
     "text": [
      "C:\\Users\\CBS-3\\anaconda3\\envs\\micasense\\lib\\site-packages\\rasterstats\\io.py:313: UserWarning: Setting nodata to -999; specify nodata explicitly\n",
      "  warnings.warn(\"Setting nodata to -999; specify nodata explicitly\")\n"
     ]
    },
    {
     "name": "stdout",
     "output_type": "stream",
     "text": [
      "Zonal istatistik tamamlandı\n",
      "Vej Pixel sayıları Toplandı\n"
     ]
    },
    {
     "name": "stderr",
     "output_type": "stream",
     "text": [
      "C:\\Users\\CBS-3\\anaconda3\\envs\\micasense\\lib\\site-packages\\ipykernel_launcher.py:119: RuntimeWarning: divide by zero encountered in true_divide\n",
      "C:\\Users\\CBS-3\\anaconda3\\envs\\micasense\\lib\\site-packages\\ipykernel_launcher.py:119: RuntimeWarning: invalid value encountered in true_divide\n",
      "\r",
      " 64%|\u001b[38;2;0;255;0m██████████████████████▎            \u001b[0m| 23/36 [14:50:42<8:24:45, 2329.66s/it]\u001b[0m"
     ]
    },
    {
     "name": "stdout",
     "output_type": "stream",
     "text": [
      "Fc Oluşturuldu\n",
      "wc Oluşturuldu\n",
      "wc_hc Oluşturuldu\n",
      "wc_hc Oluşturuldu\n",
      "20200806 Klasörü Oluşturuldu!\n",
      "20200806_LAI Hesaplandı\n",
      "toprak bitki ayrıştırması tamamlandı\n"
     ]
    },
    {
     "name": "stderr",
     "output_type": "stream",
     "text": [
      "C:\\Users\\CBS-3\\anaconda3\\envs\\micasense\\lib\\site-packages\\rasterstats\\io.py:313: UserWarning: Setting nodata to -999; specify nodata explicitly\n",
      "  warnings.warn(\"Setting nodata to -999; specify nodata explicitly\")\n"
     ]
    },
    {
     "name": "stdout",
     "output_type": "stream",
     "text": [
      "Zonal istatistik tamamlandı\n",
      "Vej Pixel sayıları Toplandı\n"
     ]
    },
    {
     "name": "stderr",
     "output_type": "stream",
     "text": [
      "C:\\Users\\CBS-3\\anaconda3\\envs\\micasense\\lib\\site-packages\\ipykernel_launcher.py:119: RuntimeWarning: divide by zero encountered in true_divide\n",
      "C:\\Users\\CBS-3\\anaconda3\\envs\\micasense\\lib\\site-packages\\ipykernel_launcher.py:119: RuntimeWarning: invalid value encountered in true_divide\n",
      "\r",
      " 67%|\u001b[38;2;0;255;0m███████████████████████▎           \u001b[0m| 24/36 [15:29:33<7:46:02, 2330.20s/it]\u001b[0m"
     ]
    },
    {
     "name": "stdout",
     "output_type": "stream",
     "text": [
      "Fc Oluşturuldu\n",
      "wc Oluşturuldu\n",
      "wc_hc Oluşturuldu\n",
      "wc_hc Oluşturuldu\n",
      "20200808 Klasörü Oluşturuldu!\n",
      "20200808_LAI Hesaplandı\n",
      "toprak bitki ayrıştırması tamamlandı\n"
     ]
    },
    {
     "name": "stderr",
     "output_type": "stream",
     "text": [
      "C:\\Users\\CBS-3\\anaconda3\\envs\\micasense\\lib\\site-packages\\rasterstats\\io.py:313: UserWarning: Setting nodata to -999; specify nodata explicitly\n",
      "  warnings.warn(\"Setting nodata to -999; specify nodata explicitly\")\n"
     ]
    },
    {
     "name": "stdout",
     "output_type": "stream",
     "text": [
      "Zonal istatistik tamamlandı\n",
      "Vej Pixel sayıları Toplandı\n"
     ]
    },
    {
     "name": "stderr",
     "output_type": "stream",
     "text": [
      "C:\\Users\\CBS-3\\anaconda3\\envs\\micasense\\lib\\site-packages\\ipykernel_launcher.py:119: RuntimeWarning: divide by zero encountered in true_divide\n",
      "C:\\Users\\CBS-3\\anaconda3\\envs\\micasense\\lib\\site-packages\\ipykernel_launcher.py:119: RuntimeWarning: invalid value encountered in true_divide\n",
      "\r",
      " 69%|\u001b[38;2;0;255;0m████████████████████████▎          \u001b[0m| 25/36 [16:08:13<7:06:38, 2327.15s/it]\u001b[0m"
     ]
    },
    {
     "name": "stdout",
     "output_type": "stream",
     "text": [
      "Fc Oluşturuldu\n",
      "wc Oluşturuldu\n",
      "wc_hc Oluşturuldu\n",
      "wc_hc Oluşturuldu\n",
      "20200812 Klasörü Oluşturuldu!\n",
      "20200812_LAI Hesaplandı\n",
      "toprak bitki ayrıştırması tamamlandı\n"
     ]
    },
    {
     "name": "stderr",
     "output_type": "stream",
     "text": [
      "C:\\Users\\CBS-3\\anaconda3\\envs\\micasense\\lib\\site-packages\\rasterstats\\io.py:313: UserWarning: Setting nodata to -999; specify nodata explicitly\n",
      "  warnings.warn(\"Setting nodata to -999; specify nodata explicitly\")\n"
     ]
    },
    {
     "name": "stdout",
     "output_type": "stream",
     "text": [
      "Zonal istatistik tamamlandı\n",
      "Vej Pixel sayıları Toplandı\n"
     ]
    },
    {
     "name": "stderr",
     "output_type": "stream",
     "text": [
      "C:\\Users\\CBS-3\\anaconda3\\envs\\micasense\\lib\\site-packages\\ipykernel_launcher.py:119: RuntimeWarning: divide by zero encountered in true_divide\n",
      "C:\\Users\\CBS-3\\anaconda3\\envs\\micasense\\lib\\site-packages\\ipykernel_launcher.py:119: RuntimeWarning: invalid value encountered in true_divide\n",
      "\r",
      " 72%|\u001b[38;2;0;255;0m█████████████████████████▎         \u001b[0m| 26/36 [16:46:59<6:27:49, 2326.91s/it]\u001b[0m"
     ]
    },
    {
     "name": "stdout",
     "output_type": "stream",
     "text": [
      "Fc Oluşturuldu\n",
      "wc Oluşturuldu\n",
      "wc_hc Oluşturuldu\n",
      "wc_hc Oluşturuldu\n",
      "20200817 Klasörü Oluşturuldu!\n",
      "20200817_LAI Hesaplandı\n",
      "toprak bitki ayrıştırması tamamlandı\n"
     ]
    },
    {
     "name": "stderr",
     "output_type": "stream",
     "text": [
      "C:\\Users\\CBS-3\\anaconda3\\envs\\micasense\\lib\\site-packages\\rasterstats\\io.py:313: UserWarning: Setting nodata to -999; specify nodata explicitly\n",
      "  warnings.warn(\"Setting nodata to -999; specify nodata explicitly\")\n"
     ]
    },
    {
     "name": "stdout",
     "output_type": "stream",
     "text": [
      "Zonal istatistik tamamlandı\n",
      "Vej Pixel sayıları Toplandı\n"
     ]
    },
    {
     "name": "stderr",
     "output_type": "stream",
     "text": [
      "C:\\Users\\CBS-3\\anaconda3\\envs\\micasense\\lib\\site-packages\\ipykernel_launcher.py:119: RuntimeWarning: divide by zero encountered in true_divide\n",
      "C:\\Users\\CBS-3\\anaconda3\\envs\\micasense\\lib\\site-packages\\ipykernel_launcher.py:119: RuntimeWarning: invalid value encountered in true_divide\n",
      "\r",
      " 75%|\u001b[38;2;0;255;0m██████████████████████████▎        \u001b[0m| 27/36 [17:26:48<5:51:49, 2345.54s/it]\u001b[0m"
     ]
    },
    {
     "name": "stdout",
     "output_type": "stream",
     "text": [
      "Fc Oluşturuldu\n",
      "wc Oluşturuldu\n",
      "wc_hc Oluşturuldu\n",
      "wc_hc Oluşturuldu\n",
      "20200819 Klasörü Oluşturuldu!\n",
      "20200819_LAI Hesaplandı\n",
      "toprak bitki ayrıştırması tamamlandı\n"
     ]
    },
    {
     "name": "stderr",
     "output_type": "stream",
     "text": [
      "C:\\Users\\CBS-3\\anaconda3\\envs\\micasense\\lib\\site-packages\\rasterstats\\io.py:313: UserWarning: Setting nodata to -999; specify nodata explicitly\n",
      "  warnings.warn(\"Setting nodata to -999; specify nodata explicitly\")\n"
     ]
    },
    {
     "name": "stdout",
     "output_type": "stream",
     "text": [
      "Zonal istatistik tamamlandı\n",
      "Vej Pixel sayıları Toplandı\n"
     ]
    },
    {
     "name": "stderr",
     "output_type": "stream",
     "text": [
      "C:\\Users\\CBS-3\\anaconda3\\envs\\micasense\\lib\\site-packages\\ipykernel_launcher.py:119: RuntimeWarning: divide by zero encountered in true_divide\n",
      "C:\\Users\\CBS-3\\anaconda3\\envs\\micasense\\lib\\site-packages\\ipykernel_launcher.py:119: RuntimeWarning: invalid value encountered in true_divide\n",
      "\r",
      " 78%|\u001b[38;2;0;255;0m███████████████████████████▏       \u001b[0m| 28/36 [18:05:34<5:11:56, 2339.60s/it]\u001b[0m"
     ]
    },
    {
     "name": "stdout",
     "output_type": "stream",
     "text": [
      "Fc Oluşturuldu\n",
      "wc Oluşturuldu\n",
      "wc_hc Oluşturuldu\n",
      "wc_hc Oluşturuldu\n",
      "20200824 Klasörü Oluşturuldu!\n",
      "20200824_LAI Hesaplandı\n",
      "toprak bitki ayrıştırması tamamlandı\n"
     ]
    },
    {
     "name": "stderr",
     "output_type": "stream",
     "text": [
      "C:\\Users\\CBS-3\\anaconda3\\envs\\micasense\\lib\\site-packages\\rasterstats\\io.py:313: UserWarning: Setting nodata to -999; specify nodata explicitly\n",
      "  warnings.warn(\"Setting nodata to -999; specify nodata explicitly\")\n"
     ]
    },
    {
     "name": "stdout",
     "output_type": "stream",
     "text": [
      "Zonal istatistik tamamlandı\n",
      "Vej Pixel sayıları Toplandı\n"
     ]
    },
    {
     "name": "stderr",
     "output_type": "stream",
     "text": [
      "C:\\Users\\CBS-3\\anaconda3\\envs\\micasense\\lib\\site-packages\\ipykernel_launcher.py:119: RuntimeWarning: divide by zero encountered in true_divide\n",
      "C:\\Users\\CBS-3\\anaconda3\\envs\\micasense\\lib\\site-packages\\ipykernel_launcher.py:119: RuntimeWarning: invalid value encountered in true_divide\n",
      "\r",
      " 81%|\u001b[38;2;0;255;0m████████████████████████████▏      \u001b[0m| 29/36 [18:44:21<4:32:29, 2335.71s/it]\u001b[0m"
     ]
    },
    {
     "name": "stdout",
     "output_type": "stream",
     "text": [
      "Fc Oluşturuldu\n",
      "wc Oluşturuldu\n",
      "wc_hc Oluşturuldu\n",
      "wc_hc Oluşturuldu\n",
      "20200826 Klasörü Oluşturuldu!\n",
      "20200826_LAI Hesaplandı\n",
      "toprak bitki ayrıştırması tamamlandı\n"
     ]
    },
    {
     "name": "stderr",
     "output_type": "stream",
     "text": [
      "C:\\Users\\CBS-3\\anaconda3\\envs\\micasense\\lib\\site-packages\\rasterstats\\io.py:313: UserWarning: Setting nodata to -999; specify nodata explicitly\n",
      "  warnings.warn(\"Setting nodata to -999; specify nodata explicitly\")\n"
     ]
    },
    {
     "name": "stdout",
     "output_type": "stream",
     "text": [
      "Zonal istatistik tamamlandı\n",
      "Vej Pixel sayıları Toplandı\n"
     ]
    },
    {
     "name": "stderr",
     "output_type": "stream",
     "text": [
      "C:\\Users\\CBS-3\\anaconda3\\envs\\micasense\\lib\\site-packages\\ipykernel_launcher.py:119: RuntimeWarning: divide by zero encountered in true_divide\n",
      "C:\\Users\\CBS-3\\anaconda3\\envs\\micasense\\lib\\site-packages\\ipykernel_launcher.py:119: RuntimeWarning: invalid value encountered in true_divide\n",
      "\r",
      " 83%|\u001b[38;2;0;255;0m█████████████████████████████▏     \u001b[0m| 30/36 [19:23:46<3:54:27, 2344.55s/it]\u001b[0m"
     ]
    },
    {
     "name": "stdout",
     "output_type": "stream",
     "text": [
      "Fc Oluşturuldu\n",
      "wc Oluşturuldu\n",
      "wc_hc Oluşturuldu\n",
      "wc_hc Oluşturuldu\n",
      "20200828 Klasörü Oluşturuldu!\n",
      "20200828_LAI Hesaplandı\n",
      "toprak bitki ayrıştırması tamamlandı\n"
     ]
    },
    {
     "name": "stderr",
     "output_type": "stream",
     "text": [
      "C:\\Users\\CBS-3\\anaconda3\\envs\\micasense\\lib\\site-packages\\rasterstats\\io.py:313: UserWarning: Setting nodata to -999; specify nodata explicitly\n",
      "  warnings.warn(\"Setting nodata to -999; specify nodata explicitly\")\n"
     ]
    },
    {
     "name": "stdout",
     "output_type": "stream",
     "text": [
      "Zonal istatistik tamamlandı\n",
      "Vej Pixel sayıları Toplandı\n"
     ]
    },
    {
     "name": "stderr",
     "output_type": "stream",
     "text": [
      "C:\\Users\\CBS-3\\anaconda3\\envs\\micasense\\lib\\site-packages\\ipykernel_launcher.py:119: RuntimeWarning: divide by zero encountered in true_divide\n",
      "C:\\Users\\CBS-3\\anaconda3\\envs\\micasense\\lib\\site-packages\\ipykernel_launcher.py:119: RuntimeWarning: invalid value encountered in true_divide\n",
      "\r",
      " 86%|\u001b[38;2;0;255;0m██████████████████████████████▏    \u001b[0m| 31/36 [20:02:49<3:15:19, 2343.99s/it]\u001b[0m"
     ]
    },
    {
     "name": "stdout",
     "output_type": "stream",
     "text": [
      "Fc Oluşturuldu\n",
      "wc Oluşturuldu\n",
      "wc_hc Oluşturuldu\n",
      "wc_hc Oluşturuldu\n",
      "20200831 Klasörü Oluşturuldu!\n",
      "20200831_LAI Hesaplandı\n",
      "toprak bitki ayrıştırması tamamlandı\n"
     ]
    },
    {
     "name": "stderr",
     "output_type": "stream",
     "text": [
      "C:\\Users\\CBS-3\\anaconda3\\envs\\micasense\\lib\\site-packages\\rasterstats\\io.py:313: UserWarning: Setting nodata to -999; specify nodata explicitly\n",
      "  warnings.warn(\"Setting nodata to -999; specify nodata explicitly\")\n"
     ]
    },
    {
     "name": "stdout",
     "output_type": "stream",
     "text": [
      "Zonal istatistik tamamlandı\n",
      "Vej Pixel sayıları Toplandı\n"
     ]
    },
    {
     "name": "stderr",
     "output_type": "stream",
     "text": [
      "C:\\Users\\CBS-3\\anaconda3\\envs\\micasense\\lib\\site-packages\\ipykernel_launcher.py:119: RuntimeWarning: divide by zero encountered in true_divide\n",
      "C:\\Users\\CBS-3\\anaconda3\\envs\\micasense\\lib\\site-packages\\ipykernel_launcher.py:119: RuntimeWarning: invalid value encountered in true_divide\n",
      "\r",
      " 89%|\u001b[38;2;0;255;0m███████████████████████████████    \u001b[0m| 32/36 [20:42:09<2:36:35, 2348.88s/it]\u001b[0m"
     ]
    },
    {
     "name": "stdout",
     "output_type": "stream",
     "text": [
      "Fc Oluşturuldu\n",
      "wc Oluşturuldu\n",
      "wc_hc Oluşturuldu\n",
      "wc_hc Oluşturuldu\n",
      "20200903 Klasörü Oluşturuldu!\n",
      "20200903_LAI Hesaplandı\n",
      "toprak bitki ayrıştırması tamamlandı\n"
     ]
    },
    {
     "name": "stderr",
     "output_type": "stream",
     "text": [
      "C:\\Users\\CBS-3\\anaconda3\\envs\\micasense\\lib\\site-packages\\rasterstats\\io.py:313: UserWarning: Setting nodata to -999; specify nodata explicitly\n",
      "  warnings.warn(\"Setting nodata to -999; specify nodata explicitly\")\n"
     ]
    },
    {
     "name": "stdout",
     "output_type": "stream",
     "text": [
      "Zonal istatistik tamamlandı\n",
      "Vej Pixel sayıları Toplandı\n"
     ]
    },
    {
     "name": "stderr",
     "output_type": "stream",
     "text": [
      "C:\\Users\\CBS-3\\anaconda3\\envs\\micasense\\lib\\site-packages\\ipykernel_launcher.py:119: RuntimeWarning: divide by zero encountered in true_divide\n",
      "C:\\Users\\CBS-3\\anaconda3\\envs\\micasense\\lib\\site-packages\\ipykernel_launcher.py:119: RuntimeWarning: invalid value encountered in true_divide\n",
      "\r",
      " 92%|\u001b[38;2;0;255;0m████████████████████████████████   \u001b[0m| 33/36 [21:21:09<1:57:18, 2346.33s/it]\u001b[0m"
     ]
    },
    {
     "name": "stdout",
     "output_type": "stream",
     "text": [
      "Fc Oluşturuldu\n",
      "wc Oluşturuldu\n",
      "wc_hc Oluşturuldu\n",
      "wc_hc Oluşturuldu\n",
      "20200917 Klasörü Oluşturuldu!\n",
      "20200917_LAI Hesaplandı\n",
      "toprak bitki ayrıştırması tamamlandı\n"
     ]
    },
    {
     "name": "stderr",
     "output_type": "stream",
     "text": [
      "C:\\Users\\CBS-3\\anaconda3\\envs\\micasense\\lib\\site-packages\\rasterstats\\io.py:313: UserWarning: Setting nodata to -999; specify nodata explicitly\n",
      "  warnings.warn(\"Setting nodata to -999; specify nodata explicitly\")\n"
     ]
    },
    {
     "name": "stdout",
     "output_type": "stream",
     "text": [
      "Zonal istatistik tamamlandı\n",
      "Vej Pixel sayıları Toplandı\n"
     ]
    },
    {
     "name": "stderr",
     "output_type": "stream",
     "text": [
      "C:\\Users\\CBS-3\\anaconda3\\envs\\micasense\\lib\\site-packages\\ipykernel_launcher.py:119: RuntimeWarning: divide by zero encountered in true_divide\n",
      "C:\\Users\\CBS-3\\anaconda3\\envs\\micasense\\lib\\site-packages\\ipykernel_launcher.py:119: RuntimeWarning: invalid value encountered in true_divide\n",
      "\r",
      " 94%|\u001b[38;2;0;255;0m█████████████████████████████████  \u001b[0m| 34/36 [22:01:04<1:18:41, 2360.70s/it]\u001b[0m"
     ]
    },
    {
     "name": "stdout",
     "output_type": "stream",
     "text": [
      "Fc Oluşturuldu\n",
      "wc Oluşturuldu\n",
      "wc_hc Oluşturuldu\n",
      "wc_hc Oluşturuldu\n",
      "20200922 Klasörü Oluşturuldu!\n",
      "20200922_LAI Hesaplandı\n",
      "toprak bitki ayrıştırması tamamlandı\n"
     ]
    },
    {
     "name": "stderr",
     "output_type": "stream",
     "text": [
      "C:\\Users\\CBS-3\\anaconda3\\envs\\micasense\\lib\\site-packages\\rasterstats\\io.py:313: UserWarning: Setting nodata to -999; specify nodata explicitly\n",
      "  warnings.warn(\"Setting nodata to -999; specify nodata explicitly\")\n"
     ]
    },
    {
     "name": "stdout",
     "output_type": "stream",
     "text": [
      "Zonal istatistik tamamlandı\n",
      "Vej Pixel sayıları Toplandı\n"
     ]
    },
    {
     "name": "stderr",
     "output_type": "stream",
     "text": [
      "C:\\Users\\CBS-3\\anaconda3\\envs\\micasense\\lib\\site-packages\\ipykernel_launcher.py:119: RuntimeWarning: divide by zero encountered in true_divide\n",
      "C:\\Users\\CBS-3\\anaconda3\\envs\\micasense\\lib\\site-packages\\ipykernel_launcher.py:119: RuntimeWarning: invalid value encountered in true_divide\n",
      "\r",
      " 97%|\u001b[38;2;0;255;0m███████████████████████████████████▉ \u001b[0m| 35/36 [22:40:38<39:24, 2364.81s/it]\u001b[0m"
     ]
    },
    {
     "name": "stdout",
     "output_type": "stream",
     "text": [
      "Fc Oluşturuldu\n",
      "wc Oluşturuldu\n",
      "wc_hc Oluşturuldu\n",
      "wc_hc Oluşturuldu\n",
      "20200923 Klasörü Oluşturuldu!\n",
      "20200923_LAI Hesaplandı\n",
      "toprak bitki ayrıştırması tamamlandı\n"
     ]
    },
    {
     "name": "stderr",
     "output_type": "stream",
     "text": [
      "C:\\Users\\CBS-3\\anaconda3\\envs\\micasense\\lib\\site-packages\\rasterstats\\io.py:313: UserWarning: Setting nodata to -999; specify nodata explicitly\n",
      "  warnings.warn(\"Setting nodata to -999; specify nodata explicitly\")\n"
     ]
    },
    {
     "name": "stdout",
     "output_type": "stream",
     "text": [
      "Zonal istatistik tamamlandı\n",
      "Vej Pixel sayıları Toplandı\n"
     ]
    },
    {
     "name": "stderr",
     "output_type": "stream",
     "text": [
      "C:\\Users\\CBS-3\\anaconda3\\envs\\micasense\\lib\\site-packages\\ipykernel_launcher.py:119: RuntimeWarning: divide by zero encountered in true_divide\n",
      "C:\\Users\\CBS-3\\anaconda3\\envs\\micasense\\lib\\site-packages\\ipykernel_launcher.py:119: RuntimeWarning: invalid value encountered in true_divide\n",
      "100%|\u001b[38;2;0;255;0m█████████████████████████████████████\u001b[0m| 36/36 [23:19:47<00:00, 2332.99s/it]\u001b[0m"
     ]
    },
    {
     "name": "stdout",
     "output_type": "stream",
     "text": [
      "Fc Oluşturuldu\n",
      "wc Oluşturuldu\n",
      "wc_hc Oluşturuldu\n",
      "wc_hc Oluşturuldu\n"
     ]
    },
    {
     "name": "stderr",
     "output_type": "stream",
     "text": [
      "\n"
     ]
    }
   ],
   "source": [
    "shp1 = r\"J:\\2021_TUBITAK_sorgum\\2020sorgum\\Altum_2020_paket\\shp\\2020_sorgum_FullArea_grid_10cm.shp\"\n",
    "shp= gpd.read_file(shp1)\n",
    "print(\"Shp file dosyası Okundu\")\n",
    "    \n",
    "\n",
    "for i in tqdm(range(1,len(path_ndvi_high)), colour=\"#00ff00\"):\n",
    "\n",
    "    ndvi_high_res = rasterio.open(path_ndvi_high[i], mode=\"r\")\n",
    "    ndvi_low_res  = rasterio.open(path_ndvi_low[i], mode=\"r\")\n",
    "    hc            = rasterio.open(path_hc[i-1], mode=\"r\")\n",
    "    \n",
    "    _,isim=os.path.split(path_ndvi_high[i])\n",
    "    isim= isim[:8]    \n",
    "    \n",
    "    \n",
    "    kayitYeri=r\"D:\\pytseb\\images\\2020\\\\\"+ isim\n",
    "    \n",
    "    # Klasör var mı yok mu onu kontrol ediyor.\n",
    "    isExist = os.path.exists(kayitYeri)\n",
    "    if not isExist:\n",
    "        os.makedirs(kayitYeri)\n",
    "        print(isim+\" Klasörü Oluşturuldu!\")\n",
    "    \n",
    "\n",
    "    \n",
    "    \n",
    "    ############  LAI Hesaplaması  ############\n",
    "    LAI = ((ndvi_low_res.read(1) * hc.read(1)) * 6.0825 + 1.19134)\n",
    "    LAI = np.where(LAI>0,LAI,0)\n",
    "\n",
    "    kwargs = hc.meta\n",
    "    kwargs.update(dtype=rasterio.float32, count=1)\n",
    "\n",
    "    with rasterio.open(kayitYeri+'/'+(isim)+'_LAI.tif', 'w', **kwargs) as dst:\n",
    "        dst.write_band(1, LAI.astype(rasterio.float32))\n",
    "    print(\"{}_LAI Hesaplandı\".format(isim))\n",
    "    \n",
    "    ############  Toprak-Bitki Ayrıştırma  ############\n",
    "    \n",
    "    top_bit = np.where(ndvi_high_res.read(1)>0.6,1,0) #her tarih için histogramdan düzenlenmelidir\n",
    "    affine = ndvi_high_res.transform\n",
    "    print(\"toprak bitki ayrıştırması tamamlandı\")\n",
    "     \n",
    "    ###########  calculate zonal statistic  ############\n",
    "    \n",
    "    sum_top_bit = rasterstats.zonal_stats(shp, top_bit, affine= affine, stats=['sum'], \n",
    "                                     geojson_out = True)\n",
    "    print(\"Zonal istatistik tamamlandı\")\n",
    "    \n",
    "    ###########  Get sum of vegetation pixel values within the shp domain  ############\n",
    "    \n",
    "    sum_top_bit2 = []\n",
    "\n",
    "    i=0\n",
    "\n",
    "    while i<len(sum_top_bit):\n",
    "        sum_top_bit2.append(sum_top_bit[i][\"properties\"])\n",
    "        i=i+1\n",
    "    print(\"Vej Pixel sayıları Toplandı\")\n",
    "    ###########  List to dataframe  ############\n",
    "    \n",
    "    sum_top_bit_df = pd.DataFrame(sum_top_bit2)\n",
    "    \n",
    "    \"Listeler DataFrame'e Çevrildi\"\n",
    "        \n",
    "    ###########  Calculation of Fc and Wc_Hc   ############\n",
    "    \n",
    "    sum_top_bit_df [\"fc\"] = (sum_top_bit_df[\"sum\"]*ndvi_high_res.transform[0]*-ndvi_high_res.transform[4]) / (-hc.transform[4]*-hc.transform[4])   #0,02-> orj ndvi resolution, 0.1->shp domain resolution.\n",
    "    sum_top_bit_df [\"wc\"] = (sum_top_bit_df[\"fc\"] * (-hc.transform[4]))\n",
    "    sum_top_bit_df [\"geometry\"] = shp.geometry\n",
    "    \n",
    "    \n",
    "    \"Fc ve Wc Hesaplamaları Gerçekleştirildi\"\n",
    "    ###########  DF to Shp File  ############\n",
    "    df = gpd.GeoDataFrame(sum_top_bit_df, geometry='geometry')\n",
    "    df.to_file(kayitYeri+'/'+'%s_grid.shp' %(isim), driver='ESRI Shapefile')  \n",
    "    \n",
    "    \"Df To shp File Tamam\"\n",
    "  \n",
    "    \n",
    "    ###########  Shp to raster  ############\n",
    "    input_geopackage= gpd.read_file(kayitYeri+'/'+'%s_grid.shp' %(isim))\n",
    "    \n",
    "\n",
    "    out_grid = make_geocube(\n",
    "        vector_data=input_geopackage,\n",
    "        resolution=(hc.transform[4], hc.transform[0]),\n",
    "    )\n",
    "\n",
    "    out_grid[\"fc\"].rio.to_raster(kayitYeri+'/'+\"%s_Fc.tif\" %(isim))\n",
    "    out_grid[\"wc\"].rio.to_raster(kayitYeri+'/'+\"%s_Wc.tif\" %(isim))    \n",
    "    \n",
    "    \"shp to Raster Tamam\"\n",
    "    ###########  Align Fc and Wc-Hc with Hc Image  ############\n",
    "    fc  = rasterio.open(kayitYeri+'/'+\"%s_Fc.tif\" %(isim), mode=\"r\").read(1)\n",
    "\n",
    "\n",
    "    kwargs = hc.meta\n",
    "    kwargs.update(dtype=rasterio.float32, count=1)\n",
    "\n",
    "    with rasterio.open(kayitYeri+'/'+\"%s_Fc.tif\" %(isim), 'w', **kwargs) as dst:\n",
    "        dst.write_band(1, fc.astype(rasterio.float32))\n",
    "    print(\"Fc Oluşturuldu\")\n",
    "\n",
    "\n",
    "\n",
    "\n",
    "    wc  = rasterio.open(kayitYeri+'/'+\"%s_Wc.tif\" %(isim), mode=\"r\").read(1)\n",
    "\n",
    "    kwargs = hc.meta\n",
    "    kwargs.update(dtype=rasterio.float32, count=1)\n",
    "\n",
    "    with rasterio.open(kayitYeri+'/'+\"%s_Wc.tif\" %(isim), 'w', **kwargs) as dst:\n",
    "        dst.write_band(1, wc.astype(rasterio.float32))\n",
    "    print(\"wc Oluşturuldu\")\n",
    "\n",
    "\n",
    "    wc  = rasterio.open(kayitYeri+'/'+\"%s_Wc.tif\" %(isim), mode=\"r\").read(1)\n",
    "    wc_hc= wc/hc.read(1)\n",
    "    wc_hc= np.where(wc_hc>0, wc_hc, 0)\n",
    "\n",
    "\n",
    "    kwargs = hc.meta\n",
    "    kwargs.update(dtype=rasterio.float32, count=1)\n",
    "\n",
    "    with rasterio.open(kayitYeri+'/'+\"%s_Wc_Hc.tif\" %(isim), 'w', **kwargs) as dst:\n",
    "        dst.write_band(1, wc_hc.astype(rasterio.float32))\n",
    "    print(\"wc_hc Oluşturuldu\")\n",
    "    \n",
    "    with rasterio.open(kayitYeri+'/'+\"%s_Hc.tif\" %(isim), 'w', **kwargs) as dst:\n",
    "        dst.write_band(1, hc.read(1).astype(rasterio.float32))\n",
    "    print(\"wc_hc Oluşturuldu\")\n",
    "    \n",
    "    \n",
    "    os.remove(kayitYeri+'/'+\"%s_Wc.tif\" %(isim))  #Wc yi silmek için\n",
    "    os.remove(kayitYeri+'/'+\"%s_grid.cpg\" %(isim))  \n",
    "    os.remove(kayitYeri+'/'+\"%s_grid.dbf\" %(isim))  \n",
    "    os.remove(kayitYeri+'/'+\"%s_grid.prj\" %(isim))  \n",
    "    os.remove(kayitYeri+'/'+\"%s_grid.shp\" %(isim)) \n",
    "    os.remove(kayitYeri+'/'+\"%s_grid.shx\" %(isim))  \n",
    "    ###########  DF to Shp File  ############\n"
   ]
  },
  {
   "cell_type": "code",
   "execution_count": null,
   "id": "900be4c7",
   "metadata": {},
   "outputs": [],
   "source": []
  }
 ],
 "metadata": {
  "kernelspec": {
   "display_name": "Python 3 (ipykernel)",
   "language": "python",
   "name": "python3"
  },
  "language_info": {
   "codemirror_mode": {
    "name": "ipython",
    "version": 3
   },
   "file_extension": ".py",
   "mimetype": "text/x-python",
   "name": "python",
   "nbconvert_exporter": "python",
   "pygments_lexer": "ipython3",
   "version": "3.9.7"
  }
 },
 "nbformat": 4,
 "nbformat_minor": 5
}
